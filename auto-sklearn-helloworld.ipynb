{
 "cells": [
  {
   "cell_type": "markdown",
   "metadata": {},
   "source": [
    "# Installation"
   ]
  },
  {
   "cell_type": "code",
   "execution_count": null,
   "metadata": {},
   "outputs": [],
   "source": [
    "# ! apt-get update\n",
    "! apt-get install -y --allow-unauthenticated swig"
   ]
  },
  {
   "cell_type": "code",
   "execution_count": null,
   "metadata": {},
   "outputs": [],
   "source": [
    "! pip install pyrfr\n",
    "! pip install Cython\n",
    "! pip install auto-sklearn"
   ]
  },
  {
   "cell_type": "markdown",
   "metadata": {},
   "source": [
    "# Hello World"
   ]
  },
  {
   "cell_type": "code",
   "execution_count": 17,
   "metadata": {},
   "outputs": [],
   "source": [
    "import sklearn.model_selection\n",
    "import sklearn.datasets\n",
    "import sklearn.metrics\n",
    "import autosklearn.regression\n",
    "import numpy as np\n",
    "from joblib import dump, load\n",
    "import warnings\n",
    "warnings.filterwarnings('ignore')\n",
    "\n",
    "\n",
    "def main():\n",
    "    X, y = sklearn.datasets.load_boston(return_X_y=True)\n",
    "    feature_types = (['numerical'] * 3) + ['categorical'] + (['numerical'] * 9)\n",
    "    X_train, X_test, y_train, y_test = \\\n",
    "        sklearn.model_selection.train_test_split(X, y, random_state=1)\n",
    "\n",
    "    automl = autosklearn.regression.AutoSklearnRegressor(\n",
    "        time_left_for_this_task=36,\n",
    "        per_run_time_limit=30\n",
    "    )\n",
    "    automl.fit(X_train, y_train, dataset_name='boston', feat_type=feature_types)\n",
    "\n",
    "    print(automl.show_models())\n",
    "    predictions = automl.predict(X_test)\n",
    "    print(\"R2 score:\", sklearn.metrics.r2_score(y_test, predictions))\n",
    "    print(\"MAE score:\", sklearn.metrics.mean_absolute_error(y_test, predictions))\n",
    "    print(\"RMSE score:\", np.sqrt(sklearn.metrics.mean_squared_error(y_test, predictions)))\n",
    "    dump(automl, 'model.joblib')"
   ]
  },
  {
   "cell_type": "code",
   "execution_count": 18,
   "metadata": {},
   "outputs": [
    {
     "name": "stdout",
     "output_type": "stream",
     "text": [
      "[WARNING] [2019-01-01 10:30:52,721:AutoMLSMBO(1)::boston] Could not find meta-data directory /usr/local/envs/py3env/lib/python3.5/site-packages/autosklearn/metalearning/files/r2_regression_dense\n",
      "[WARNING] [2019-01-01 10:30:52,746:EnsembleBuilder(1):boston] No models better than random - using Dummy Score!\n",
      "[WARNING] [2019-01-01 10:30:52,775:EnsembleBuilder(1):boston] No models better than random - using Dummy Score!\n",
      "[(1.000000, SimpleRegressionPipeline({'regressor:random_forest:min_weight_fraction_leaf': 0.0, 'regressor:random_forest:min_samples_leaf': 1, 'regressor:random_forest:min_impurity_decrease': 0.0, 'regressor:__choice__': 'random_forest', 'regressor:random_forest:max_depth': 'None', 'categorical_encoding:one_hot_encoding:minimum_fraction': 0.01, 'regressor:random_forest:bootstrap': 'True', 'regressor:random_forest:max_leaf_nodes': 'None', 'preprocessor:__choice__': 'no_preprocessing', 'rescaling:__choice__': 'standardize', 'categorical_encoding:one_hot_encoding:use_minimum_fraction': 'True', 'regressor:random_forest:n_estimators': 100, 'regressor:random_forest:criterion': 'mse', 'categorical_encoding:__choice__': 'one_hot_encoding', 'regressor:random_forest:min_samples_split': 2, 'regressor:random_forest:max_features': 1.0, 'imputation:strategy': 'mean'},\n",
      "dataset_properties={\n",
      "  'sparse': False,\n",
      "  'multiclass': False,\n",
      "  'multilabel': False,\n",
      "  'task': 4,\n",
      "  'target_type': 'regression',\n",
      "  'signed': False})),\n",
      "]\n",
      "R2 score: 0.8704295503102488\n",
      "MAE score: 2.6576928551741466\n",
      "RMSE score: 3.5826039362946567\n"
     ]
    }
   ],
   "source": [
    "main()"
   ]
  },
  {
   "cell_type": "code",
   "execution_count": 11,
   "metadata": {},
   "outputs": [],
   "source": [
    "def test_joblib():\n",
    "    X, y = sklearn.datasets.load_boston(return_X_y=True)\n",
    "    X_train, X_test, y_train, y_test = sklearn.model_selection.train_test_split(X, y, random_state=1)\n",
    "    automl = load('model.joblib')\n",
    "    print(automl.predict(X_test))\n",
    "    return automl"
   ]
  },
  {
   "cell_type": "code",
   "execution_count": 12,
   "metadata": {},
   "outputs": [
    {
     "name": "stdout",
     "output_type": "stream",
     "text": [
      "[31.93320679 28.00055138 18.16911995 20.18052711 21.23598923 19.53523979\n",
      " 31.19931969 18.1902433  20.10526726 24.37034248 27.94699951 31.7838662\n",
      " 20.57941277 20.52455956 20.06424049 19.82341904 12.09422947 40.75170822\n",
      " 24.75791977 15.43895897 19.31015961 17.56243286 25.37583931 23.86864944\n",
      " 27.35204559 10.21085278 14.18272331 19.39023941 36.63186737 12.57532921\n",
      " 25.74746857 17.80457748 45.99836426 15.01874821 22.6590007  20.6357103\n",
      " 14.84772945 31.92104019 13.0055241  19.09192055 23.73333931 24.48852051\n",
      " 26.4352578  15.69578873 15.13011959 10.30772198 48.27728729 13.78410984\n",
      " 20.24770798 18.50683144 20.83745392 20.68928001 25.31775703 20.37415504\n",
      " 12.04224358 24.35852615 12.47096027 25.67648384 18.50561378 40.53051559\n",
      " 14.44738232 27.54619972 13.44244015 15.35492653 17.37219467 34.65542892\n",
      " 41.62956131 24.72120018 20.48512077 19.88568047 23.88447968  8.92400002\n",
      " 18.23648064 19.80686516 19.58072052 19.96345398 44.3084726  23.59571236\n",
      " 29.075784   34.99973145 17.33505981 20.32866371 32.76947952 11.2817054\n",
      " 24.069133   25.88221367 14.02184029 25.60377899 19.95521942 17.19105507\n",
      " 28.60802811 38.77302948 16.47283844 20.05424011 16.04787994 19.50522301\n",
      " 24.80182236 24.907342   42.1608786  20.23827301 16.94247299 15.23334679\n",
      " 23.75678177 23.61208015  9.49675415 20.33682701 16.94164185 30.06251595\n",
      " 23.12956169 27.71179932 46.84435013 24.52558632 13.43327984 36.98600006\n",
      " 34.426978   36.17675507 20.06405022 17.80147919 36.00047913 38.10578873\n",
      " 20.95972313 14.06619968 29.43760498 18.20279213 25.44826645 20.91285439\n",
      " 22.28740044]\n"
     ]
    }
   ],
   "source": [
    "model = test_joblib()"
   ]
  },
  {
   "cell_type": "code",
   "execution_count": null,
   "metadata": {},
   "outputs": [],
   "source": []
  }
 ],
 "metadata": {
  "kernelspec": {
   "display_name": "Python 3",
   "language": "python",
   "name": "python3"
  },
  "language_info": {
   "codemirror_mode": {
    "name": "ipython",
    "version": 3
   },
   "file_extension": ".py",
   "mimetype": "text/x-python",
   "name": "python",
   "nbconvert_exporter": "python",
   "pygments_lexer": "ipython3",
   "version": "3.5.6"
  }
 },
 "nbformat": 4,
 "nbformat_minor": 2
}
