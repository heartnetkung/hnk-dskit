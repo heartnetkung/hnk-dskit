{
 "cells": [
  {
   "cell_type": "markdown",
   "metadata": {},
   "source": [
    "# RUN MODE"
   ]
  },
  {
   "cell_type": "code",
   "execution_count": 1,
   "metadata": {},
   "outputs": [],
   "source": [
    "DEV_MODE = True"
   ]
  },
  {
   "cell_type": "code",
   "execution_count": null,
   "metadata": {},
   "outputs": [],
   "source": [
    "import warnings\n",
    "warnings.filterwarnings('ignore')\n",
    "\n",
    "import seaborn as sns\n",
    "import matplotlib.pyplot as plt\n",
    "import numpy as np\n",
    "import pandas as pd\n",
    "import gc\n",
    "from scipy import stats\n",
    "from sklearn.model_selection import KFold, cross_val_score, train_test_split\n",
    "from sklearn.linear_model import ElasticNet, Lasso, LassoCV\n",
    "\n",
    "# Comment this if the data visualisations doesn't work on your side\n",
    "%matplotlib inline\n",
    "plt.style.use('bmh')\n",
    "pd.options.display.max_columns = 100\n",
    "sns.set()"
   ]
  },
  {
   "cell_type": "code",
   "execution_count": null,
   "metadata": {},
   "outputs": [],
   "source": [
    "if DEV_MODE:\n",
    "    from sklearn.datasets import load_boston\n",
    "    boston = load_boston()\n",
    "    boston_df = pd.DataFrame(boston['data'], columns=boston['feature_names'])"
   ]
  },
  {
   "cell_type": "markdown",
   "metadata": {},
   "source": [
    "# EDA Library"
   ]
  },
  {
   "cell_type": "markdown",
   "metadata": {},
   "source": [
    "## heatMap(df, abs_cor = 0.4)"
   ]
  },
  {
   "cell_type": "code",
   "execution_count": null,
   "metadata": {},
   "outputs": [],
   "source": [
    "def heatMap(df, abs_cor=0.4):\n",
    "    corrmat = df.corr()\n",
    "    plt.subplots(figsize=(15, 12))\n",
    "    sns.set(font_scale=1)\n",
    "    mask = np.zeros_like(corrmat, dtype=np.bool)\n",
    "    mask[np.triu_indices_from(mask, k=1)] = True\n",
    "    cmap = sns.diverging_palette(220, 10, as_cmap=True)\n",
    "    sns.heatmap(\n",
    "        corrmat[(corrmat > abs_cor) | (corrmat < -abs_cor)],\n",
    "        vmax=.8,\n",
    "        square=True,\n",
    "        annot=True,\n",
    "        mask=mask,\n",
    "        cmap=cmap\n",
    "    )\n",
    "\n",
    "\n",
    "if DEV_MODE:\n",
    "    heatMap(boston_df)"
   ]
  },
  {
   "cell_type": "markdown",
   "metadata": {},
   "source": [
    "## getNA(df)"
   ]
  },
  {
   "cell_type": "code",
   "execution_count": null,
   "metadata": {},
   "outputs": [],
   "source": [
    "def getNA(dataframe):\n",
    "    columns = []\n",
    "    nas = []\n",
    "    types = []\n",
    "    at_least_one = False\n",
    "    for column in list(dataframe):\n",
    "        hasNA = dataframe[[column]].isna().sum().values\n",
    "        if (hasNA[0] > 0):\n",
    "            columns = columns + [column]\n",
    "            nas = nas + [hasNA[0]]\n",
    "            types = types + [dataframe[column].dtype]\n",
    "            at_least_one = True\n",
    "    if at_least_one == False:\n",
    "        return 'No NA found'\n",
    "    return pd.DataFrame({'columns': columns, 'na': nas, 'dtype': types})\n",
    "\n",
    "\n",
    "if DEV_MODE:\n",
    "    print(getNA(boston_df))\n",
    "    boston_df['na'] = None\n",
    "    print(getNA(boston_df))"
   ]
  },
  {
   "cell_type": "code",
   "execution_count": null,
   "metadata": {},
   "outputs": [],
   "source": [
    "def getColumnData(df, column):\n",
    "    if type(column) == int:\n",
    "        return df.columns[column]\n",
    "    elif type(column) == str:\n",
    "        return df[column]\n",
    "    return column"
   ]
  },
  {
   "cell_type": "markdown",
   "metadata": {},
   "source": [
    "## singleFieldAnalysis(column, df = None)"
   ]
  },
  {
   "cell_type": "code",
   "execution_count": null,
   "metadata": {},
   "outputs": [],
   "source": [
    "def singleFieldAnalysis(column, df=None):\n",
    "    column = getColumnData(df, column)\n",
    "    print(column.describe())\n",
    "    print(\"Na percent:\", column.isna().sum() / len(column))\n",
    "    if column.dtype != 'object':\n",
    "        print(\"Skewness:\", column.dropna().skew())\n",
    "        print(\"Kurtosis:\", column.dropna().kurt())\n",
    "        plt.figure(figsize=(12, 4))\n",
    "        plt.subplot(1, 2, 1)\n",
    "        sns.distplot(column.dropna())\n",
    "        plt.subplot(1, 2, 2)\n",
    "        stats.probplot(column, plot=plt)\n",
    "        plt.show()\n",
    "    else:\n",
    "        temp = column.fillna('~none')\n",
    "        temp = sns.countplot(\n",
    "            y=temp, order=temp.value_counts().index, color='#bc5090'\n",
    "        )\n",
    "\n",
    "\n",
    "if DEV_MODE:\n",
    "    singleFieldAnalysis('AGE', boston_df)\n",
    "    singleFieldAnalysis(np.log1p(boston_df['AGE']))"
   ]
  },
  {
   "cell_type": "markdown",
   "metadata": {},
   "source": [
    "## scatter(y, x1, x2 = None, x3 = None, x4 = None, df = None)"
   ]
  },
  {
   "cell_type": "code",
   "execution_count": null,
   "metadata": {},
   "outputs": [],
   "source": [
    "def scatter(y, x1, x2=None, x3=None, x4=None, df=None):\n",
    "    x1_data = getColumnData(df, x1)\n",
    "    x2_data = getColumnData(df, x2)\n",
    "    x3_data = getColumnData(df, x3)\n",
    "    x4_data = getColumnData(df, x4)\n",
    "    y_data = getColumnData(df, y)\n",
    "\n",
    "    plt.figure(figsize=(12, 8))\n",
    "    plt.subplot(2, 2, 1)\n",
    "    plt.scatter(x=x1_data, y=y_data)\n",
    "    if df is not None:\n",
    "        plt.ylabel(y)\n",
    "        plt.xlabel(x1)\n",
    "    if x2 is not None:\n",
    "        plt.subplot(2, 2, 2)\n",
    "        plt.scatter(x=x2_data, y=y_data)\n",
    "        if df is not None:\n",
    "            plt.ylabel(y)\n",
    "            plt.xlabel(x2)\n",
    "    if x3 is not None:\n",
    "        plt.subplot(2, 2, 3)\n",
    "        plt.scatter(x=x3_data, y=y_data)\n",
    "        if df is not None:\n",
    "            plt.ylabel(y)\n",
    "            plt.xlabel(x3)\n",
    "    if x4 is not None:\n",
    "        plt.subplot(2, 2, 4)\n",
    "        plt.scatter(x=x4_data, y=y_data)\n",
    "        if df is not None:\n",
    "            plt.ylabel(y)\n",
    "            plt.xlabel(x4)\n",
    "\n",
    "\n",
    "if DEV_MODE:\n",
    "    print(scatter('AGE', 'NOX', df=boston_df))"
   ]
  },
  {
   "cell_type": "markdown",
   "metadata": {},
   "source": [
    "# ML Library"
   ]
  },
  {
   "cell_type": "markdown",
   "metadata": {},
   "source": [
    "## doXgbCV(model, train, test, metrics, cv_folds = 5, early_stopping_rounds = 50)"
   ]
  },
  {
   "cell_type": "code",
   "execution_count": null,
   "metadata": {},
   "outputs": [],
   "source": [
    "def doXgbCV(model, train, test, metrics, cv_folds=5, early_stopping_rounds=50):\n",
    "    xgb_param = model.get_xgb_params()\n",
    "    xgtrain = xgb.DMatrix(train.values, label=test.values)\n",
    "    cvresult = xgb.cv(\n",
    "        xgb_param,\n",
    "        xgtrain,\n",
    "        num_boost_round=model.get_params()['n_estimators'],\n",
    "        nfold=cv_folds,\n",
    "        metrics=metrics,\n",
    "        early_stopping_rounds=early_stopping_rounds\n",
    "    )\n",
    "    print(cvresult[['test-rmse-mean', 'test-rmse-std']].tail(1))\n",
    "    return cvresult"
   ]
  },
  {
   "cell_type": "code",
   "execution_count": null,
   "metadata": {},
   "outputs": [],
   "source": [
    "def doSklearnCV(\n",
    "    model, train, test, metrics=\"neg_mean_squared_error\", cv_folds=5\n",
    "):\n",
    "    kf = KFold(\n",
    "        cv_folds, shuffle=True, random_state=42\n",
    "    ).get_n_splits(train.values)\n",
    "    print(train.shape)\n",
    "    print(test.shape)\n",
    "    rmse = np.sqrt(\n",
    "        -cross_val_score(\n",
    "            model, train.values, test.values, scoring=metrics, cv=kf\n",
    "        )\n",
    "    )\n",
    "    print(\"Score: {:.4f} ({:.4f})\".format(rmse.mean(), rmse.std()))\n",
    "    return (rmse, model)"
   ]
  },
  {
   "cell_type": "markdown",
   "metadata": {},
   "source": [
    "## doLassoCV(train, test, metrics=\"neg_mean_squared_error\", cv_folds = 5, alpha=1)"
   ]
  },
  {
   "cell_type": "code",
   "execution_count": null,
   "metadata": {},
   "outputs": [],
   "source": [
    "def doLassoCV(\n",
    "    train, test, metrics=\"neg_mean_squared_error\", cv_folds=5, alpha=1\n",
    "):\n",
    "    return doSklearnCV(Lasso(alpha=alpha), train, test, metrics, cv_folds)"
   ]
  },
  {
   "cell_type": "markdown",
   "metadata": {},
   "source": [
    "## lassoFeatureImportance(train, test,  cv=5)"
   ]
  },
  {
   "cell_type": "code",
   "execution_count": null,
   "metadata": {},
   "outputs": [],
   "source": [
    "def lassoFeatureImportance(train, test, cv=5):\n",
    "    model = LassoCV(alphas=[1, 0.1, 0.001, 0.0005], cv=cv)\n",
    "    model.fit(train, test)\n",
    "    coef = pd.Series(model.coef_, index=train.columns)\n",
    "    print('Best alpha:', model.alpha_)\n",
    "    print('Removed features:', coef[coef == 0].index)\n",
    "    coef[coef != 0].sort_values().plot(kind=\"barh\")\n",
    "    plt.title(\"Coefficients in the Lasso Model\")\n",
    "\n",
    "\n",
    "if DEV_MODE:\n",
    "    ignore = lassoFeatureImportance(boston_df.fillna(0), boston.target)"
   ]
  },
  {
   "cell_type": "markdown",
   "metadata": {},
   "source": [
    "# Misc Library"
   ]
  },
  {
   "cell_type": "markdown",
   "metadata": {},
   "source": [
    "## doGc()"
   ]
  },
  {
   "cell_type": "code",
   "execution_count": null,
   "metadata": {},
   "outputs": [],
   "source": [
    "def doGc():\n",
    "    gc.collect()\n",
    "    ! free -m"
   ]
  },
  {
   "cell_type": "code",
   "execution_count": 15,
   "metadata": {},
   "outputs": [
    {
     "name": "stdout",
     "output_type": "stream",
     "text": [
      "              total        used        free      shared  buff/cache   available\r\n",
      "Mem:          26126        6591       14513           0        5021       19100\r\n",
      "Swap:             0           0           0\r\n"
     ]
    }
   ],
   "source": [
    "! free -m"
   ]
  }
 ],
 "metadata": {
  "kernelspec": {
   "display_name": "Python 3",
   "language": "python",
   "name": "python3"
  },
  "language_info": {
   "codemirror_mode": {
    "name": "ipython",
    "version": 3
   },
   "file_extension": ".py",
   "mimetype": "text/x-python",
   "name": "python",
   "nbconvert_exporter": "python",
   "pygments_lexer": "ipython3",
   "version": "3.5.6"
  }
 },
 "nbformat": 4,
 "nbformat_minor": 2
}
