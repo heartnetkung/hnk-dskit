{
 "cells": [
  {
   "cell_type": "markdown",
   "metadata": {},
   "source": [
    "# Usage\n",
    "1. structure your code like this: \n",
    "  - `/data/...` insert your data here\n",
    "  - `/py/...` your directory for code diff, much easier to read here\n",
    "  - `/github.ipynb` this file\n",
    "  - `/*.ipynb` your notebooks\n",
    "2. Add ssh key to github [here](https://help.github.com/articles/adding-a-new-ssh-key-to-your-github-account/)\n"
   ]
  },
  {
   "cell_type": "markdown",
   "metadata": {},
   "source": [
    "# Initialize"
   ]
  },
  {
   "cell_type": "code",
   "execution_count": 60,
   "metadata": {},
   "outputs": [],
   "source": [
    "DEV = True"
   ]
  },
  {
   "cell_type": "code",
   "execution_count": 61,
   "metadata": {},
   "outputs": [
    {
     "name": "stdout",
     "output_type": "stream",
     "text": [
      "git version 2.7.4\r\n"
     ]
    }
   ],
   "source": [
    "# check if git is installed\n",
    "! git --version"
   ]
  },
  {
   "cell_type": "code",
   "execution_count": 62,
   "metadata": {},
   "outputs": [
    {
     "name": "stdout",
     "output_type": "stream",
     "text": [
      "Reinitialized existing Git repository in /content/datalab/notebooks/hnk-dskit/.git/\r\n"
     ]
    }
   ],
   "source": [
    "! git init"
   ]
  },
  {
   "cell_type": "code",
   "execution_count": null,
   "metadata": {},
   "outputs": [],
   "source": [
    "# edit url here\n",
    "! git remote add origin git@github.com:heartnetkung/hnk-dskit.git\n",
    "! git config --global user.email \"heartnetkung@gmail.com\""
   ]
  },
  {
   "cell_type": "code",
   "execution_count": 59,
   "metadata": {},
   "outputs": [],
   "source": [
    "if DEV:\n",
    "  ! echo \"data/**\\n.ipynb_checkpoints/**\\nid_rsa\\nid_rsa.pub\\ngithub.ipynb\\npy/github.py\" > .gitignore\n",
    "else:\n",
    "  ! echo \"data/**\\n.ipynb_checkpoints/**\\nid_rsa\\nid_rsa.pub\\npy/github.py\" > .gitignore"
   ]
  },
  {
   "cell_type": "code",
   "execution_count": 53,
   "metadata": {},
   "outputs": [
    {
     "name": "stdout",
     "output_type": "stream",
     "text": [
      "data/**\r\n",
      ".ipynb_checkpoints/**\r\n",
      "id_rsa\r\n",
      "id_rsa.pub\r\n",
      "github.ipynb\r\n",
      "py/github.py\r\n"
     ]
    }
   ],
   "source": [
    "! head .gitignore"
   ]
  },
  {
   "cell_type": "code",
   "execution_count": 54,
   "metadata": {},
   "outputs": [
    {
     "name": "stdout",
     "output_type": "stream",
     "text": [
      "[master 0222f65] init\n",
      " 1 file changed, 1 insertion(+), 1 deletion(-)\n",
      "Warning: Permanently added 'github.com,192.30.253.113' (RSA) to the list of known hosts.\n",
      "Counting objects: 3, done.\n",
      "Delta compression using up to 4 threads.\n",
      "Compressing objects: 100% (2/2), done.\n",
      "Writing objects: 100% (3/3), 275 bytes | 0 bytes/s, done.\n",
      "Total 3 (delta 1), reused 0 (delta 0)\n",
      "remote: Resolving deltas: 100% (1/1), completed with 1 local object.\u001b[K\n",
      "To git@github.com:heartnetkung/hnk-dskit.git\n",
      "   fb6b173..0222f65  master -> master\n",
      "Branch master set up to track remote branch master from origin.\n"
     ]
    }
   ],
   "source": [
    "! git stage .gitignore\n",
    "! git commit -m init\n",
    "! GIT_SSH_COMMAND=\"ssh -i id_rsa -o UserKnownHostsFile=/dev/null -o StrictHostKeyChecking=no\" git push -u origin master"
   ]
  },
  {
   "cell_type": "markdown",
   "metadata": {},
   "source": [
    "# Workflow"
   ]
  },
  {
   "cell_type": "code",
   "execution_count": 55,
   "metadata": {},
   "outputs": [
    {
     "name": "stdout",
     "output_type": "stream",
     "text": [
      "[NbConvertApp] Converting notebook github.ipynb to script\n",
      "[NbConvertApp] Writing 2136 bytes to github.py\n",
      "The following paths are ignored by one of your .gitignore files:\n",
      "github.ipynb\n",
      "py/github.py\n",
      "Use -f if you really want to add them.\n"
     ]
    }
   ],
   "source": [
    "! jupyter nbconvert --to script *.ipynb\n",
    "! mv *.py py/\n",
    "! sed -i '/^\\s*$/d' py/*\n",
    "! sed -i '/^# In\\[/d' py/*\n",
    "! sed -i '/^# coding:/d' py/*\n",
    "! git stage *.ipynb py/* .gitignore\n",
    "! git diff --staged py/\n",
    "! git diff --staged .gitignore"
   ]
  },
  {
   "cell_type": "code",
   "execution_count": 68,
   "metadata": {},
   "outputs": [
    {
     "name": "stdout",
     "output_type": "stream",
     "text": [
      "[master (root-commit) a052442] init\r\n",
      " 3 files changed, 85 insertions(+)\r\n",
      " create mode 100644 .gitignore\r\n",
      " create mode 100644 ipynb/github-Copy1.ipynb\r\n",
      " create mode 100644 py/github-Copy1.py\r\n"
     ]
    }
   ],
   "source": [
    "! git commit -m init"
   ]
  },
  {
   "cell_type": "code",
   "execution_count": 41,
   "metadata": {},
   "outputs": [
    {
     "name": "stdout",
     "output_type": "stream",
     "text": [
      "Warning: Permanently added 'github.com,192.30.253.112' (RSA) to the list of known hosts.\n",
      "Counting objects: 3, done.\n",
      "Delta compression using up to 4 threads.\n",
      "Compressing objects: 100% (2/2), done.\n",
      "Writing objects: 100% (3/3), 265 bytes | 0 bytes/s, done.\n",
      "Total 3 (delta 0), reused 0 (delta 0)\n",
      "To git@github.com:heartnetkung/hk-dskit.git\n",
      " * [new branch]      master -> master\n",
      "Branch master set up to track remote branch master from origin.\n"
     ]
    }
   ],
   "source": [
    "! GIT_SSH_COMMAND=\"ssh -i id_rsa -o UserKnownHostsFile=/dev/null -o StrictHostKeyChecking=no\" git push -u origin master"
   ]
  },
  {
   "cell_type": "markdown",
   "metadata": {},
   "source": [
    "# Misc"
   ]
  },
  {
   "cell_type": "code",
   "execution_count": 56,
   "metadata": {},
   "outputs": [],
   "source": [
    "! git ls-files --others --exclude-standard"
   ]
  },
  {
   "cell_type": "code",
   "execution_count": null,
   "metadata": {},
   "outputs": [],
   "source": [
    "! ssh-keygen -t rsa -b 4096 -N '' -f id_rsa"
   ]
  },
  {
   "cell_type": "code",
   "execution_count": 43,
   "metadata": {},
   "outputs": [],
   "source": [
    "# delete git and restart over\n",
    "! rm -rf .git"
   ]
  },
  {
   "cell_type": "code",
   "execution_count": 57,
   "metadata": {},
   "outputs": [],
   "source": [
    "# unstage all\n",
    "! git reset"
   ]
  },
  {
   "cell_type": "code",
   "execution_count": null,
   "metadata": {},
   "outputs": [],
   "source": []
  }
 ],
 "metadata": {
  "kernelspec": {
   "display_name": "Python 2",
   "language": "python",
   "name": "python2"
  },
  "language_info": {
   "codemirror_mode": {
    "name": "ipython",
    "version": 2
   },
   "file_extension": ".py",
   "mimetype": "text/x-python",
   "name": "python",
   "nbconvert_exporter": "python",
   "pygments_lexer": "ipython2",
   "version": "2.7.15"
  }
 },
 "nbformat": 4,
 "nbformat_minor": 2
}
