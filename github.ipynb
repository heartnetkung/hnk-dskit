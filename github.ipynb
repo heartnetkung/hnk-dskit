{
 "cells": [
  {
   "cell_type": "markdown",
   "metadata": {},
   "source": [
    "# Usage\n",
    "1. structure your code like this: \n",
    "  - `/data/...` insert your data here\n",
    "  - `/py/...` your directory for code diff, much easier to read here\n",
    "  - `/github.ipynb` this file\n",
    "  - `/*.ipynb` your notebooks\n",
    "2. Add ssh key to github [here](https://help.github.com/articles/adding-a-new-ssh-key-to-your-github-account/)\n"
   ]
  },
  {
   "cell_type": "markdown",
   "metadata": {},
   "source": [
    "# Initialize"
   ]
  },
  {
   "cell_type": "code",
   "execution_count": 76,
   "metadata": {},
   "outputs": [],
   "source": [
    "DEV = False"
   ]
  },
  {
   "cell_type": "code",
   "execution_count": 77,
   "metadata": {},
   "outputs": [
    {
     "name": "stdout",
     "output_type": "stream",
     "text": [
      "git version 2.7.4\r\n"
     ]
    }
   ],
   "source": [
    "# check if git is installed\n",
    "! git --version"
   ]
  },
  {
   "cell_type": "code",
   "execution_count": 78,
   "metadata": {},
   "outputs": [
    {
     "name": "stdout",
     "output_type": "stream",
     "text": [
      "Reinitialized existing Git repository in /content/datalab/notebooks/hnk-dskit/.git/\r\n"
     ]
    }
   ],
   "source": [
    "! git init"
   ]
  },
  {
   "cell_type": "code",
   "execution_count": 6,
   "metadata": {},
   "outputs": [],
   "source": [
    "# edit url here\n",
    "# ! git remote add origin git@github.com:heartnetkung/hnk-dskit.git\n",
    "! git config --global user.email \"heartnetkung@gmail.com\""
   ]
  },
  {
   "cell_type": "code",
   "execution_count": 80,
   "metadata": {},
   "outputs": [],
   "source": [
    "if DEV:\n",
    "  ! echo \"data/**\\n.ipynb_checkpoints/**\\nid_rsa\\nid_rsa.pub\\npy/github.py\" > .gitignore\n",
    "else:\n",
    "  ! echo \"data/**\\n.ipynb_checkpoints/**\\nid_rsa\\nid_rsa.pub\\ngithub.ipynb\\npy/github.py\" > .gitignore"
   ]
  },
  {
   "cell_type": "code",
   "execution_count": 81,
   "metadata": {},
   "outputs": [
    {
     "name": "stdout",
     "output_type": "stream",
     "text": [
      "data/**\r\n",
      ".ipynb_checkpoints/**\r\n",
      "id_rsa\r\n",
      "id_rsa.pub\r\n",
      "github.ipynb\r\n",
      "py/github.py\r\n"
     ]
    }
   ],
   "source": [
    "! head .gitignore"
   ]
  },
  {
   "cell_type": "code",
   "execution_count": 82,
   "metadata": {},
   "outputs": [
    {
     "name": "stdout",
     "output_type": "stream",
     "text": [
      "[master 14d7098] init\n",
      " 1 file changed, 1 insertion(+)\n",
      "Warning: Permanently added 'github.com,192.30.253.112' (RSA) to the list of known hosts.\n",
      "Counting objects: 3, done.\n",
      "Delta compression using up to 4 threads.\n",
      "Compressing objects: 100% (3/3), done.\n",
      "Writing objects: 100% (3/3), 339 bytes | 0 bytes/s, done.\n",
      "Total 3 (delta 0), reused 0 (delta 0)\n",
      "To git@github.com:heartnetkung/hnk-dskit.git\n",
      "   e70a3d3..14d7098  master -> master\n",
      "Branch master set up to track remote branch master from origin.\n"
     ]
    }
   ],
   "source": [
    "! git stage .gitignore\n",
    "! git commit -m init\n",
    "! GIT_SSH_COMMAND=\"ssh -i id_rsa -o UserKnownHostsFile=/dev/null -o StrictHostKeyChecking=no\" git push -u origin master"
   ]
  },
  {
   "cell_type": "markdown",
   "metadata": {},
   "source": [
    "# Workflow"
   ]
  },
  {
   "cell_type": "code",
   "execution_count": 1,
   "metadata": {},
   "outputs": [
    {
     "name": "stdout",
     "output_type": "stream",
     "text": [
      "[NbConvertApp] Converting notebook auto-sklearn-helloworld.ipynb to script\n",
      "[NbConvertApp] Writing 1690 bytes to auto-sklearn-helloworld.py\n",
      "[NbConvertApp] Converting notebook boilerplate.ipynb to script\n",
      "[NbConvertApp] Writing 6101 bytes to boilerplate.py\n",
      "[NbConvertApp] Converting notebook github.ipynb to script\n",
      "[NbConvertApp] Writing 2291 bytes to github.py\n",
      "[NbConvertApp] Converting notebook nb-black.ipynb to script\n",
      "[NbConvertApp] Writing 364 bytes to nb-black.py\n",
      "The following paths are ignored by one of your .gitignore files:\n",
      "py/github.py\n",
      "Use -f if you really want to add them.\n",
      "\u001b[1mdiff --git a/py/boilerplate.py b/py/boilerplate.py\u001b[m\n",
      "\u001b[1mindex 1c32de5..c173104 100644\u001b[m\n",
      "\u001b[1m--- a/py/boilerplate.py\u001b[m\n",
      "\u001b[1m+++ b/py/boilerplate.py\u001b[m\n",
      "\u001b[36m@@ -100,7 +100,8 @@\u001b[m \u001b[mif DEV_MODE:\u001b[m\n",
      " def boxplot(df, columns, label):\u001b[m\n",
      "   fig, axes = plt.subplots(nrows= int(math.floor(len(columns)/2))+1,ncols=2)\u001b[m\n",
      "   fig.set_size_inches(12, 18)\u001b[m\n",
      "\u001b[31m-  sns.boxplot(data=df,y=label,orient=\"v\", ax=axes[0][0])\u001b[m\n",
      "\u001b[32m+\u001b[m\u001b[32m  sns.boxplot(data=df,y=label,orient=\"v\")\u001b[m\n",
      "\u001b[32m+\u001b[m\u001b[32m#   sns.boxplot(data=df,y=label,orient=\"v\", ax=axes[0][0])\u001b[m\n",
      "   for i, column in enumerate(columns):\u001b[m\n",
      "     sns.boxplot(data=df,y=label,orient=\"v\", x= column, ax=axes[int(math.floor((i+1)/2))][(i+1)%2])\u001b[m\n",
      " # ## scatter(df, columns, label)\u001b[m\n"
     ]
    }
   ],
   "source": [
    "! jupyter nbconvert --to script *.ipynb\n",
    "! mv *.py py/\n",
    "! sed -i '/^\\s*$/d' py/*\n",
    "! sed -i '/^# In\\[/d' py/*\n",
    "! sed -i '/^# coding:/d' py/*\n",
    "! git stage *.ipynb py/* .gitignore\n",
    "! git diff --staged py/\n",
    "! git diff --staged .gitignore"
   ]
  },
  {
   "cell_type": "code",
   "execution_count": 8,
   "metadata": {},
   "outputs": [
    {
     "name": "stdout",
     "output_type": "stream",
     "text": [
      "[master a5f6de6] remove unused import\r\n",
      " 3 files changed, 17 insertions(+), 19 deletions(-)\r\n"
     ]
    }
   ],
   "source": [
    "! git commit -m \"remove unused import\" "
   ]
  },
  {
   "cell_type": "code",
   "execution_count": 9,
   "metadata": {},
   "outputs": [
    {
     "name": "stdout",
     "output_type": "stream",
     "text": [
      "Warning: Permanently added 'github.com,192.30.253.113' (RSA) to the list of known hosts.\n",
      "Counting objects: 6, done.\n",
      "Delta compression using up to 8 threads.\n",
      "Compressing objects: 100% (6/6), done.\n",
      "Writing objects: 100% (6/6), 768 bytes | 0 bytes/s, done.\n",
      "Total 6 (delta 5), reused 0 (delta 0)\n",
      "remote: Resolving deltas: 100% (5/5), completed with 5 local objects.\u001b[K\n",
      "To git@github.com:heartnetkung/hnk-dskit.git\n",
      "   747267e..a5f6de6  master -> master\n",
      "Branch master set up to track remote branch master from origin.\n"
     ]
    }
   ],
   "source": [
    "! GIT_SSH_COMMAND=\"ssh -i id_rsa -o UserKnownHostsFile=/dev/null -o StrictHostKeyChecking=no\" git push -u origin master"
   ]
  },
  {
   "cell_type": "markdown",
   "metadata": {},
   "source": [
    "# Misc"
   ]
  },
  {
   "cell_type": "code",
   "execution_count": 56,
   "metadata": {},
   "outputs": [],
   "source": [
    "! git ls-files --others --exclude-standard"
   ]
  },
  {
   "cell_type": "code",
   "execution_count": null,
   "metadata": {},
   "outputs": [],
   "source": [
    "! ssh-keygen -t rsa -b 4096 -N '' -f id_rsa"
   ]
  },
  {
   "cell_type": "code",
   "execution_count": 43,
   "metadata": {},
   "outputs": [],
   "source": [
    "# delete git and restart over\n",
    "! rm -rf .git"
   ]
  },
  {
   "cell_type": "code",
   "execution_count": 57,
   "metadata": {},
   "outputs": [],
   "source": [
    "# unstage all\n",
    "! git reset"
   ]
  },
  {
   "cell_type": "code",
   "execution_count": null,
   "metadata": {},
   "outputs": [],
   "source": []
  }
 ],
 "metadata": {
  "kernelspec": {
   "display_name": "Python 2",
   "language": "python",
   "name": "python2"
  },
  "language_info": {
   "codemirror_mode": {
    "name": "ipython",
    "version": 2
   },
   "file_extension": ".py",
   "mimetype": "text/x-python",
   "name": "python",
   "nbconvert_exporter": "python",
   "pygments_lexer": "ipython2",
   "version": "2.7.15"
  }
 },
 "nbformat": 4,
 "nbformat_minor": 2
}
