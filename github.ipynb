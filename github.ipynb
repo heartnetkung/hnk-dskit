{
 "cells": [
  {
   "cell_type": "markdown",
   "metadata": {},
   "source": [
    "# Usage\n",
    "1. structure your code like this: \n",
    "  - `/data/...` insert your data here\n",
    "  - `/py/...` your directory for code diff, much easier to read here\n",
    "  - `/github.ipynb` this file\n",
    "  - `/*.ipynb` your notebooks\n",
    "2. Add ssh key to github [here](https://help.github.com/articles/adding-a-new-ssh-key-to-your-github-account/)\n"
   ]
  },
  {
   "cell_type": "markdown",
   "metadata": {},
   "source": [
    "# Initialize"
   ]
  },
  {
   "cell_type": "code",
   "execution_count": 76,
   "metadata": {},
   "outputs": [],
   "source": [
    "DEV = False"
   ]
  },
  {
   "cell_type": "code",
   "execution_count": 77,
   "metadata": {},
   "outputs": [
    {
     "name": "stdout",
     "output_type": "stream",
     "text": [
      "git version 2.7.4\r\n"
     ]
    }
   ],
   "source": [
    "# check if git is installed\n",
    "! git --version"
   ]
  },
  {
   "cell_type": "code",
   "execution_count": 78,
   "metadata": {},
   "outputs": [
    {
     "name": "stdout",
     "output_type": "stream",
     "text": [
      "Reinitialized existing Git repository in /content/datalab/notebooks/hnk-dskit/.git/\r\n"
     ]
    }
   ],
   "source": [
    "! git init"
   ]
  },
  {
   "cell_type": "code",
   "execution_count": 79,
   "metadata": {},
   "outputs": [
    {
     "name": "stdout",
     "output_type": "stream",
     "text": [
      "fatal: remote origin already exists.\r\n"
     ]
    }
   ],
   "source": [
    "# edit url here\n",
    "! git remote add origin git@github.com:heartnetkung/hnk-dskit.git\n",
    "! git config --global user.email \"heartnetkung@gmail.com\""
   ]
  },
  {
   "cell_type": "code",
   "execution_count": 80,
   "metadata": {},
   "outputs": [],
   "source": [
    "if DEV:\n",
    "  ! echo \"data/**\\n.ipynb_checkpoints/**\\nid_rsa\\nid_rsa.pub\\npy/github.py\" > .gitignore\n",
    "else:\n",
    "  ! echo \"data/**\\n.ipynb_checkpoints/**\\nid_rsa\\nid_rsa.pub\\ngithub.ipynb\\npy/github.py\" > .gitignore"
   ]
  },
  {
   "cell_type": "code",
   "execution_count": 81,
   "metadata": {},
   "outputs": [
    {
     "name": "stdout",
     "output_type": "stream",
     "text": [
      "data/**\r\n",
      ".ipynb_checkpoints/**\r\n",
      "id_rsa\r\n",
      "id_rsa.pub\r\n",
      "github.ipynb\r\n",
      "py/github.py\r\n"
     ]
    }
   ],
   "source": [
    "! head .gitignore"
   ]
  },
  {
   "cell_type": "code",
   "execution_count": 82,
   "metadata": {},
   "outputs": [
    {
     "name": "stdout",
     "output_type": "stream",
     "text": [
      "[master 14d7098] init\n",
      " 1 file changed, 1 insertion(+)\n",
      "Warning: Permanently added 'github.com,192.30.253.112' (RSA) to the list of known hosts.\n",
      "Counting objects: 3, done.\n",
      "Delta compression using up to 4 threads.\n",
      "Compressing objects: 100% (3/3), done.\n",
      "Writing objects: 100% (3/3), 339 bytes | 0 bytes/s, done.\n",
      "Total 3 (delta 0), reused 0 (delta 0)\n",
      "To git@github.com:heartnetkung/hnk-dskit.git\n",
      "   e70a3d3..14d7098  master -> master\n",
      "Branch master set up to track remote branch master from origin.\n"
     ]
    }
   ],
   "source": [
    "! git stage .gitignore\n",
    "! git commit -m init\n",
    "! GIT_SSH_COMMAND=\"ssh -i id_rsa -o UserKnownHostsFile=/dev/null -o StrictHostKeyChecking=no\" git push -u origin master"
   ]
  },
  {
   "cell_type": "markdown",
   "metadata": {},
   "source": [
    "# Workflow"
   ]
  },
  {
   "cell_type": "code",
   "execution_count": 2,
   "metadata": {},
   "outputs": [
    {
     "name": "stdout",
     "output_type": "stream",
     "text": [
      "[NbConvertApp] Converting notebook auto-sklearn-helloworld.ipynb to script\n",
      "[NbConvertApp] Writing 1690 bytes to auto-sklearn-helloworld.py\n",
      "[NbConvertApp] Converting notebook github.ipynb to script\n",
      "[NbConvertApp] Writing 2308 bytes to github.py\n",
      "[NbConvertApp] Converting notebook nb-black.ipynb to script\n",
      "[NbConvertApp] Writing 364 bytes to nb-black.py\n",
      "The following paths are ignored by one of your .gitignore files:\n",
      "py/github.py\n",
      "Use -f if you really want to add them.\n",
      "\u001b[1mdiff --git a/py/auto-sklearn-helloworld.py b/py/auto-sklearn-helloworld.py\u001b[m\n",
      "\u001b[1mnew file mode 100644\u001b[m\n",
      "\u001b[1mindex 0000000..369d274\u001b[m\n",
      "\u001b[1m--- /dev/null\u001b[m\n",
      "\u001b[1m+++ b/py/auto-sklearn-helloworld.py\u001b[m\n",
      "\u001b[36m@@ -0,0 +1,38 @@\u001b[m\n",
      "\u001b[32m+\u001b[m\u001b[32m# # Installation\u001b[m\n",
      "\u001b[32m+\u001b[m\u001b[32m# ! apt-get update\u001b[m\n",
      "\u001b[32m+\u001b[m\u001b[32mget_ipython().system(u' apt-get install -y --allow-unauthenticated swig')\u001b[m\n",
      "\u001b[32m+\u001b[m\u001b[32mget_ipython().system(u' pip install pyrfr')\u001b[m\n",
      "\u001b[32m+\u001b[m\u001b[32mget_ipython().system(u' pip install Cython')\u001b[m\n",
      "\u001b[32m+\u001b[m\u001b[32mget_ipython().system(u' pip install auto-sklearn')\u001b[m\n",
      "\u001b[32m+\u001b[m\u001b[32m# # Hello World\u001b[m\n",
      "\u001b[32m+\u001b[m\u001b[32mimport sklearn.model_selection\u001b[m\n",
      "\u001b[32m+\u001b[m\u001b[32mimport sklearn.datasets\u001b[m\n",
      "\u001b[32m+\u001b[m\u001b[32mimport sklearn.metrics\u001b[m\n",
      "\u001b[32m+\u001b[m\u001b[32mimport autosklearn.regression\u001b[m\n",
      "\u001b[32m+\u001b[m\u001b[32mimport numpy as np\u001b[m\n",
      "\u001b[32m+\u001b[m\u001b[32mfrom joblib import dump, load\u001b[m\n",
      "\u001b[32m+\u001b[m\u001b[32mimport warnings\u001b[m\n",
      "\u001b[32m+\u001b[m\u001b[32mwarnings.filterwarnings('ignore')\u001b[m\n",
      "\u001b[32m+\u001b[m\u001b[32mdef main():\u001b[m\n",
      "\u001b[32m+\u001b[m\u001b[32m    X, y = sklearn.datasets.load_boston(return_X_y=True)\u001b[m\n",
      "\u001b[32m+\u001b[m\u001b[32m    feature_types = (['numerical'] * 3) + ['categorical'] + (['numerical'] * 9)\u001b[m\n",
      "\u001b[32m+\u001b[m\u001b[32m    X_train, X_test, y_train, y_test =         sklearn.model_selection.train_test_split(X, y, random_state=1)\u001b[m\n",
      "\u001b[32m+\u001b[m\u001b[32m    automl = autosklearn.regression.AutoSklearnRegressor(\u001b[m\n",
      "\u001b[32m+\u001b[m\u001b[32m        time_left_for_this_task=36,\u001b[m\n",
      "\u001b[32m+\u001b[m\u001b[32m        per_run_time_limit=30\u001b[m\n",
      "\u001b[32m+\u001b[m\u001b[32m    )\u001b[m\n",
      "\u001b[32m+\u001b[m\u001b[32m    automl.fit(X_train, y_train, dataset_name='boston', feat_type=feature_types)\u001b[m\n",
      "\u001b[32m+\u001b[m\u001b[32m    print(automl.show_models())\u001b[m\n",
      "\u001b[32m+\u001b[m\u001b[32m    predictions = automl.predict(X_test)\u001b[m\n",
      "\u001b[32m+\u001b[m\u001b[32m    print(\"R2 score:\", sklearn.metrics.r2_score(y_test, predictions))\u001b[m\n",
      "\u001b[32m+\u001b[m\u001b[32m    print(\"MAE score:\", sklearn.metrics.mean_absolute_error(y_test, predictions))\u001b[m\n",
      "\u001b[32m+\u001b[m\u001b[32m    print(\"RMSE score:\", np.sqrt(sklearn.metrics.mean_squared_error(y_test, predictions)))\u001b[m\n",
      "\u001b[32m+\u001b[m\u001b[32m    dump(automl, 'model.joblib')\u001b[m\n",
      "\u001b[32m+\u001b[m\u001b[32mmain()\u001b[m\n",
      "\u001b[32m+\u001b[m\u001b[32mdef test_joblib():\u001b[m\n",
      "\u001b[32m+\u001b[m\u001b[32m    X, y = sklearn.datasets.load_boston(return_X_y=True)\u001b[m\n",
      "\u001b[32m+\u001b[m\u001b[32m    X_train, X_test, y_train, y_test = sklearn.model_selection.train_test_split(X, y, random_state=1)\u001b[m\n",
      "\u001b[32m+\u001b[m\u001b[32m    automl = load('model.joblib')\u001b[m\n",
      "\u001b[32m+\u001b[m\u001b[32m    print(automl.predict(X_test))\u001b[m\n",
      "\u001b[32m+\u001b[m\u001b[32m    return automl\u001b[m\n",
      "\u001b[32m+\u001b[m\u001b[32mmodel = test_joblib()\u001b[m\n"
     ]
    }
   ],
   "source": [
    "! jupyter nbconvert --to script *.ipynb\n",
    "! mv *.py py/\n",
    "! sed -i '/^\\s*$/d' py/*\n",
    "! sed -i '/^# In\\[/d' py/*\n",
    "! sed -i '/^# coding:/d' py/*\n",
    "! git stage *.ipynb py/* .gitignore\n",
    "! git diff --staged py/\n",
    "! git diff --staged .gitignore"
   ]
  },
  {
   "cell_type": "code",
   "execution_count": 3,
   "metadata": {},
   "outputs": [
    {
     "name": "stdout",
     "output_type": "stream",
     "text": [
      "[master c442c1d] add auto-sklearn-helloworld\r\n",
      " 3 files changed, 242 insertions(+), 14 deletions(-)\r\n",
      " create mode 100644 auto-sklearn-helloworld.ipynb\r\n",
      " create mode 100644 py/auto-sklearn-helloworld.py\r\n"
     ]
    }
   ],
   "source": [
    "! git commit -m \"add auto-sklearn-helloworld\" "
   ]
  },
  {
   "cell_type": "code",
   "execution_count": 4,
   "metadata": {},
   "outputs": [
    {
     "name": "stdout",
     "output_type": "stream",
     "text": [
      "Warning: Permanently added 'github.com,192.30.253.112' (RSA) to the list of known hosts.\n",
      "Counting objects: 6, done.\n",
      "Delta compression using up to 4 threads.\n",
      "Compressing objects: 100% (6/6), done.\n",
      "Writing objects: 100% (6/6), 3.89 KiB | 0 bytes/s, done.\n",
      "Total 6 (delta 1), reused 0 (delta 0)\n",
      "remote: Resolving deltas: 100% (1/1), completed with 1 local object.\u001b[K\n",
      "To git@github.com:heartnetkung/hnk-dskit.git\n",
      "   852bb75..c442c1d  master -> master\n",
      "Branch master set up to track remote branch master from origin.\n"
     ]
    }
   ],
   "source": [
    "! GIT_SSH_COMMAND=\"ssh -i id_rsa -o UserKnownHostsFile=/dev/null -o StrictHostKeyChecking=no\" git push -u origin master"
   ]
  },
  {
   "cell_type": "markdown",
   "metadata": {},
   "source": [
    "# Misc"
   ]
  },
  {
   "cell_type": "code",
   "execution_count": 56,
   "metadata": {},
   "outputs": [],
   "source": [
    "! git ls-files --others --exclude-standard"
   ]
  },
  {
   "cell_type": "code",
   "execution_count": null,
   "metadata": {},
   "outputs": [],
   "source": [
    "! ssh-keygen -t rsa -b 4096 -N '' -f id_rsa"
   ]
  },
  {
   "cell_type": "code",
   "execution_count": 43,
   "metadata": {},
   "outputs": [],
   "source": [
    "# delete git and restart over\n",
    "! rm -rf .git"
   ]
  },
  {
   "cell_type": "code",
   "execution_count": 57,
   "metadata": {},
   "outputs": [],
   "source": [
    "# unstage all\n",
    "! git reset"
   ]
  },
  {
   "cell_type": "code",
   "execution_count": null,
   "metadata": {},
   "outputs": [],
   "source": []
  }
 ],
 "metadata": {
  "kernelspec": {
   "display_name": "Python 2",
   "language": "python",
   "name": "python2"
  },
  "language_info": {
   "codemirror_mode": {
    "name": "ipython",
    "version": 2
   },
   "file_extension": ".py",
   "mimetype": "text/x-python",
   "name": "python",
   "nbconvert_exporter": "python",
   "pygments_lexer": "ipython2",
   "version": "2.7.15"
  }
 },
 "nbformat": 4,
 "nbformat_minor": 2
}
