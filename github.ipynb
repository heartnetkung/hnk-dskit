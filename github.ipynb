{
 "cells": [
  {
   "cell_type": "markdown",
   "metadata": {},
   "source": [
    "# Usage\n",
    "1. structure your code like this: \n",
    "  - `/data/...` insert your data here\n",
    "  - `/py/...` your directory for code diff, much easier to read here\n",
    "  - `/github.ipynb` this file\n",
    "  - `/*.ipynb` your notebooks\n",
    "2. Add ssh key to github [here](https://help.github.com/articles/adding-a-new-ssh-key-to-your-github-account/)\n"
   ]
  },
  {
   "cell_type": "markdown",
   "metadata": {},
   "source": [
    "# Initialize"
   ]
  },
  {
   "cell_type": "code",
   "execution_count": 76,
   "metadata": {},
   "outputs": [],
   "source": [
    "DEV = False"
   ]
  },
  {
   "cell_type": "code",
   "execution_count": 77,
   "metadata": {},
   "outputs": [
    {
     "name": "stdout",
     "output_type": "stream",
     "text": [
      "git version 2.7.4\r\n"
     ]
    }
   ],
   "source": [
    "# check if git is installed\n",
    "! git --version"
   ]
  },
  {
   "cell_type": "code",
   "execution_count": 78,
   "metadata": {},
   "outputs": [
    {
     "name": "stdout",
     "output_type": "stream",
     "text": [
      "Reinitialized existing Git repository in /content/datalab/notebooks/hnk-dskit/.git/\r\n"
     ]
    }
   ],
   "source": [
    "! git init"
   ]
  },
  {
   "cell_type": "code",
   "execution_count": 79,
   "metadata": {},
   "outputs": [
    {
     "name": "stdout",
     "output_type": "stream",
     "text": [
      "fatal: remote origin already exists.\r\n"
     ]
    }
   ],
   "source": [
    "# edit url here\n",
    "! git remote add origin git@github.com:heartnetkung/hnk-dskit.git\n",
    "! git config --global user.email \"heartnetkung@gmail.com\""
   ]
  },
  {
   "cell_type": "code",
   "execution_count": 80,
   "metadata": {},
   "outputs": [],
   "source": [
    "if DEV:\n",
    "  ! echo \"data/**\\n.ipynb_checkpoints/**\\nid_rsa\\nid_rsa.pub\\npy/github.py\" > .gitignore\n",
    "else:\n",
    "  ! echo \"data/**\\n.ipynb_checkpoints/**\\nid_rsa\\nid_rsa.pub\\ngithub.ipynb\\npy/github.py\" > .gitignore"
   ]
  },
  {
   "cell_type": "code",
   "execution_count": 81,
   "metadata": {},
   "outputs": [
    {
     "name": "stdout",
     "output_type": "stream",
     "text": [
      "data/**\r\n",
      ".ipynb_checkpoints/**\r\n",
      "id_rsa\r\n",
      "id_rsa.pub\r\n",
      "github.ipynb\r\n",
      "py/github.py\r\n"
     ]
    }
   ],
   "source": [
    "! head .gitignore"
   ]
  },
  {
   "cell_type": "code",
   "execution_count": 82,
   "metadata": {},
   "outputs": [
    {
     "name": "stdout",
     "output_type": "stream",
     "text": [
      "[master 14d7098] init\n",
      " 1 file changed, 1 insertion(+)\n",
      "Warning: Permanently added 'github.com,192.30.253.112' (RSA) to the list of known hosts.\n",
      "Counting objects: 3, done.\n",
      "Delta compression using up to 4 threads.\n",
      "Compressing objects: 100% (3/3), done.\n",
      "Writing objects: 100% (3/3), 339 bytes | 0 bytes/s, done.\n",
      "Total 3 (delta 0), reused 0 (delta 0)\n",
      "To git@github.com:heartnetkung/hnk-dskit.git\n",
      "   e70a3d3..14d7098  master -> master\n",
      "Branch master set up to track remote branch master from origin.\n"
     ]
    }
   ],
   "source": [
    "! git stage .gitignore\n",
    "! git commit -m init\n",
    "! GIT_SSH_COMMAND=\"ssh -i id_rsa -o UserKnownHostsFile=/dev/null -o StrictHostKeyChecking=no\" git push -u origin master"
   ]
  },
  {
   "cell_type": "markdown",
   "metadata": {},
   "source": [
    "# Workflow"
   ]
  },
  {
   "cell_type": "code",
   "execution_count": 2,
   "metadata": {},
   "outputs": [
    {
     "name": "stdout",
     "output_type": "stream",
     "text": [
      "[NbConvertApp] Converting notebook auto-sklearn-helloworld.ipynb to script\n",
      "[NbConvertApp] Writing 1690 bytes to auto-sklearn-helloworld.py\n",
      "[NbConvertApp] Converting notebook boilerplate.ipynb to script\n",
      "[NbConvertApp] Writing 6072 bytes to boilerplate.py\n",
      "[NbConvertApp] Converting notebook github.ipynb to script\n",
      "[NbConvertApp] Writing 2309 bytes to github.py\n",
      "[NbConvertApp] Converting notebook nb-black.ipynb to script\n",
      "[NbConvertApp] Writing 364 bytes to nb-black.py\n",
      "The following paths are ignored by one of your .gitignore files:\n",
      "py/github.py\n",
      "Use -f if you really want to add them.\n",
      "\u001b[1mdiff --git a/py/boilerplate.py b/py/boilerplate.py\u001b[m\n",
      "\u001b[1mindex 0f099be..5b517a3 100644\u001b[m\n",
      "\u001b[1m--- a/py/boilerplate.py\u001b[m\n",
      "\u001b[1m+++ b/py/boilerplate.py\u001b[m\n",
      "\u001b[36m@@ -1,15 +1,20 @@\u001b[m\n",
      " # # RUN MODE\u001b[m\n",
      "\u001b[31m-DEV_MODE = True\u001b[m\n",
      "\u001b[32m+\u001b[m\u001b[32mDEV_MODE = False\u001b[m\n",
      "\u001b[32m+\u001b[m\u001b[32m# hack\u001b[m\n",
      "\u001b[32m+\u001b[m\u001b[32mget_ipython().system(u' pip install --upgrade --user --quiet seaborn')\u001b[m\n",
      "\u001b[32m+\u001b[m\u001b[32mimport pkg_resources\u001b[m\n",
      "\u001b[32m+\u001b[m\u001b[32mpkg_resources.require(\"seaborn>=0.9.0\")\u001b[m\n",
      "\u001b[32m+\u001b[m\u001b[32mimport seaborn as sns\u001b[m\n",
      " import warnings\u001b[m\n",
      " warnings.filterwarnings('ignore')\u001b[m\n",
      "\u001b[31m-import seaborn as sns\u001b[m\n",
      " import matplotlib.pyplot as plt\u001b[m\n",
      " import numpy as np\u001b[m\n",
      " import pandas as pd\u001b[m\n",
      " import gc\u001b[m\n",
      "\u001b[32m+\u001b[m\u001b[32mimport math\u001b[m\n",
      " from scipy import stats\u001b[m\n",
      " from sklearn.model_selection import KFold, cross_val_score, train_test_split\u001b[m\n",
      "\u001b[31m-from sklearn.linear_model import ElasticNet, Lasso, LassoCV\u001b[m\n",
      "\u001b[32m+\u001b[m\u001b[32mfrom sklearn.linear_model import Lasso, LassoCV, SGDClassifier\u001b[m\n",
      " # Comment this if the data visualisations doesn't work on your side\u001b[m\n",
      " get_ipython().magic(u'matplotlib inline')\u001b[m\n",
      " plt.style.use('bmh')\u001b[m\n",
      "\u001b[36m@@ -38,6 +43,11 @@\u001b[m \u001b[mdef heatMap(df, abs_cor=0.4):\u001b[m\n",
      "     )\u001b[m\n",
      " if DEV_MODE:\u001b[m\n",
      "     heatMap(boston_df)\u001b[m\n",
      "\u001b[32m+\u001b[m\u001b[32m# ## basicInfo(df)\u001b[m\n",
      "\u001b[32m+\u001b[m\u001b[32mdef basicInfo(df):\u001b[m\n",
      "\u001b[32m+\u001b[m\u001b[32m  print('shape:', df.shape)\u001b[m\n",
      "\u001b[32m+\u001b[m\u001b[32m  df.info()\u001b[m\n",
      "\u001b[32m+\u001b[m\u001b[32m  return df.head()\u001b[m\n",
      " # ## getNA(df)\u001b[m\n",
      " def getNA(dataframe):\u001b[m\n",
      "     columns = []\u001b[m\n",
      "\u001b[36m@@ -86,44 +96,24 @@\u001b[m \u001b[mdef singleFieldAnalysis(column, df=None):\u001b[m\n",
      " if DEV_MODE:\u001b[m\n",
      "     singleFieldAnalysis('AGE', boston_df)\u001b[m\n",
      "     singleFieldAnalysis(np.log1p(boston_df['AGE']))\u001b[m\n",
      "\u001b[31m-# ## scatter(y, x1, x2 = None, x3 = None, x4 = None, df = None)\u001b[m\n",
      "\u001b[31m-def scatter(y, x1, x2=None, x3=None, x4=None, df=None):\u001b[m\n",
      "\u001b[31m-    x1_data = getColumnData(df, x1)\u001b[m\n",
      "\u001b[31m-    x2_data = getColumnData(df, x2)\u001b[m\n",
      "\u001b[31m-    x3_data = getColumnData(df, x3)\u001b[m\n",
      "\u001b[31m-    x4_data = getColumnData(df, x4)\u001b[m\n",
      "\u001b[31m-    y_data = getColumnData(df, y)\u001b[m\n",
      "\u001b[31m-    plt.figure(figsize=(12, 8))\u001b[m\n",
      "\u001b[31m-    plt.subplot(2, 2, 1)\u001b[m\n",
      "\u001b[31m-    plt.scatter(x=x1_data, y=y_data)\u001b[m\n",
      "\u001b[31m-    if df is not None:\u001b[m\n",
      "\u001b[31m-        plt.ylabel(y)\u001b[m\n",
      "\u001b[31m-        plt.xlabel(x1)\u001b[m\n",
      "\u001b[31m-    if x2 is not None:\u001b[m\n",
      "\u001b[31m-        plt.subplot(2, 2, 2)\u001b[m\n",
      "\u001b[31m-        plt.scatter(x=x2_data, y=y_data)\u001b[m\n",
      "\u001b[31m-        if df is not None:\u001b[m\n",
      "\u001b[31m-            plt.ylabel(y)\u001b[m\n",
      "\u001b[31m-            plt.xlabel(x2)\u001b[m\n",
      "\u001b[31m-    if x3 is not None:\u001b[m\n",
      "\u001b[31m-        plt.subplot(2, 2, 3)\u001b[m\n",
      "\u001b[31m-        plt.scatter(x=x3_data, y=y_data)\u001b[m\n",
      "\u001b[31m-        if df is not None:\u001b[m\n",
      "\u001b[31m-            plt.ylabel(y)\u001b[m\n",
      "\u001b[31m-            plt.xlabel(x3)\u001b[m\n",
      "\u001b[31m-    if x4 is not None:\u001b[m\n",
      "\u001b[31m-        plt.subplot(2, 2, 4)\u001b[m\n",
      "\u001b[31m-        plt.scatter(x=x4_data, y=y_data)\u001b[m\n",
      "\u001b[31m-        if df is not None:\u001b[m\n",
      "\u001b[31m-            plt.ylabel(y)\u001b[m\n",
      "\u001b[31m-            plt.xlabel(x4)\u001b[m\n",
      "\u001b[31m-if DEV_MODE:\u001b[m\n",
      "\u001b[31m-    print(scatter('AGE', 'NOX', df=boston_df))\u001b[m\n",
      "\u001b[32m+\u001b[m\u001b[32m# ## boxplot(df, columns, label)\u001b[m\n",
      "\u001b[32m+\u001b[m\u001b[32mdef boxplot(df, columns, label):\u001b[m\n",
      "\u001b[32m+\u001b[m\u001b[32m  fig, axes = plt.subplots(nrows= int(math.floor(len(columns)/2))+1,ncols=2)\u001b[m\n",
      "\u001b[32m+\u001b[m\u001b[32m  fig.set_size_inches(12, 18)\u001b[m\n",
      "\u001b[32m+\u001b[m\u001b[32m  sns.boxplot(data=df,y=label,orient=\"v\", ax=axes[0][0])\u001b[m\n",
      "\u001b[32m+\u001b[m\u001b[32m  for i, column in enumerate(columns):\u001b[m\n",
      "\u001b[32m+\u001b[m\u001b[32m    sns.boxplot(data=df,y=label,orient=\"v\", x= column, ax=axes[int(math.floor((i+1)/2))][(i+1)%2])\u001b[m\n",
      "\u001b[32m+\u001b[m\u001b[32m# ## scatter(df, columns, label)\u001b[m\n",
      "\u001b[32m+\u001b[m\u001b[32mdef scatter(df, columns, label):\u001b[m\n",
      "\u001b[32m+\u001b[m\u001b[32m  fig, axes = plt.subplots(nrows= int(math.ceil(len(columns)/2)),ncols=2)\u001b[m\n",
      "\u001b[32m+\u001b[m\u001b[32m  fig.set_size_inches(12, 18)\u001b[m\n",
      "\u001b[32m+\u001b[m\u001b[32m  for i, column in enumerate(columns):\u001b[m\n",
      "\u001b[32m+\u001b[m\u001b[32m    sns.scatterplot(data=df,y=label, x= column, ax=axes[int(math.floor(i/2))][i%2])\u001b[m\n",
      " # # ML Library\u001b[m\n",
      " # ## doXgbCV(model, train, test, metrics, cv_folds = 5, early_stopping_rounds = 50)\u001b[m\n",
      "\u001b[31m-def doXgbCV(model, train, test, metrics, cv_folds=5, early_stopping_rounds=50):\u001b[m\n",
      "\u001b[32m+\u001b[m\u001b[32mdef doXgbCV(model, feature, label, metrics, cv_folds=5, early_stopping_rounds=50):\u001b[m\n",
      "     xgb_param = model.get_xgb_params()\u001b[m\n",
      "\u001b[31m-    xgtrain = xgb.DMatrix(train.values, label=test.values)\u001b[m\n",
      "\u001b[32m+\u001b[m\u001b[32m    xgtrain = xgb.DMatrix(feature.values, label=label.values)\u001b[m\n",
      "     cvresult = xgb.cv(\u001b[m\n",
      "         xgb_param,\u001b[m\n",
      "         xgtrain,\u001b[m\n",
      "\u001b[36m@@ -134,31 +124,30 @@\u001b[m \u001b[mdef doXgbCV(model, train, test, metrics, cv_folds=5, early_stopping_rounds=50):\u001b[m\n",
      "     )\u001b[m\n",
      "     print(cvresult[['test-rmse-mean', 'test-rmse-std']].tail(1))\u001b[m\n",
      "     return cvresult\u001b[m\n",
      "\u001b[32m+\u001b[m\u001b[32m# ## doLassoCV(feature, label, metrics=\"neg_mean_squared_error\", cv_folds = 5, alpha=1)\u001b[m\n",
      " def doSklearnCV(\u001b[m\n",
      "\u001b[31m-    model, train, test, metrics=\"neg_mean_squared_error\", cv_folds=5\u001b[m\n",
      "\u001b[32m+\u001b[m\u001b[32m    model, feature, label, metrics=\"neg_mean_squared_error\", cv_folds=5\u001b[m\n",
      " ):\u001b[m\n",
      "     kf = KFold(\u001b[m\n",
      "         cv_folds, shuffle=True, random_state=42\u001b[m\n",
      "\u001b[31m-    ).get_n_splits(train.values)\u001b[m\n",
      "\u001b[31m-    print(train.shape)\u001b[m\n",
      "\u001b[31m-    print(test.shape)\u001b[m\n",
      "\u001b[32m+\u001b[m\u001b[32m    ).get_n_splits(feature.values)\u001b[m\n",
      "     rmse = np.sqrt(\u001b[m\n",
      "         -cross_val_score(\u001b[m\n",
      "\u001b[31m-            model, train.values, test.values, scoring=metrics, cv=kf\u001b[m\n",
      "\u001b[32m+\u001b[m\u001b[32m            model, feature.values, label.values, scoring=metrics, cv=kf\u001b[m\n",
      "         )\u001b[m\n",
      "     )\u001b[m\n",
      "\u001b[31m-    print(\"Score: {:.4f} ({:.4f})\".format(rmse.mean(), rmse.std()))\u001b[m\n",
      "\u001b[32m+\u001b[m\u001b[32m    print(\"RMSE Score: {:.4f} ({:.4f})\".format(rmse.mean(), rmse.std()))\u001b[m\n",
      "     return (rmse, model)\u001b[m\n",
      "\u001b[31m-# ## doLassoCV(train, test, metrics=\"neg_mean_squared_error\", cv_folds = 5, alpha=1)\u001b[m\n",
      " def doLassoCV(\u001b[m\n",
      "\u001b[31m-    train, test, metrics=\"neg_mean_squared_error\", cv_folds=5, alpha=1\u001b[m\n",
      "\u001b[32m+\u001b[m\u001b[32m    feature, label, metrics=\"neg_mean_squared_error\", cv_folds=5, alpha=1\u001b[m\n",
      " ):\u001b[m\n",
      "\u001b[31m-    return doSklearnCV(Lasso(alpha=alpha), train, test, metrics, cv_folds)\u001b[m\n",
      "\u001b[31m-# ## lassoFeatureImportance(train, test,  cv=5)\u001b[m\n",
      "\u001b[31m-def lassoFeatureImportance(train, test, cv=5):\u001b[m\n",
      "\u001b[32m+\u001b[m\u001b[32m    return doSklearnCV(Lasso(alpha=alpha), feature, label, metrics, cv_folds)\u001b[m\n",
      "\u001b[32m+\u001b[m\u001b[32m# ## lassoFeatureImportance(feature, label,  cv=5)\u001b[m\n",
      "\u001b[32m+\u001b[m\u001b[32m# The technique for feature selection using Lasso is highlighted in this [paper](https://beta.vu.nl/nl/Images/werkstuk-fonti_tcm235-836234.pdf)\u001b[m\n",
      "\u001b[32m+\u001b[m\u001b[32mdef lassoFeatureImportance(feature, label, cv=5):\u001b[m\n",
      "     model = LassoCV(alphas=[1, 0.1, 0.001, 0.0005], cv=cv)\u001b[m\n",
      "\u001b[31m-    model.fit(train, test)\u001b[m\n",
      "\u001b[31m-    coef = pd.Series(model.coef_, index=train.columns)\u001b[m\n",
      "\u001b[32m+\u001b[m\u001b[32m    model.fit(feature, label)\u001b[m\n",
      "\u001b[32m+\u001b[m\u001b[32m    coef = pd.Series(model.coef_, index=feature.columns)\u001b[m\n",
      "     print('Best alpha:', model.alpha_)\u001b[m\n",
      "     print('Removed features:', coef[coef == 0].index)\u001b[m\n",
      "     coef[coef != 0].sort_values().plot(kind=\"barh\")\u001b[m\n"
     ]
    }
   ],
   "source": [
    "! jupyter nbconvert --to script *.ipynb\n",
    "! mv *.py py/\n",
    "! sed -i '/^\\s*$/d' py/*\n",
    "! sed -i '/^# In\\[/d' py/*\n",
    "! sed -i '/^# coding:/d' py/*\n",
    "! git stage *.ipynb py/* .gitignore\n",
    "! git diff --staged py/\n",
    "! git diff --staged .gitignore"
   ]
  },
  {
   "cell_type": "code",
   "execution_count": 3,
   "metadata": {},
   "outputs": [
    {
     "name": "stdout",
     "output_type": "stream",
     "text": [
      "[master 747267e] boilerplate v2\r\n",
      " 3 files changed, 408 insertions(+), 183 deletions(-)\r\n"
     ]
    }
   ],
   "source": [
    "! git commit -m \"boilerplate v2\" "
   ]
  },
  {
   "cell_type": "code",
   "execution_count": 4,
   "metadata": {},
   "outputs": [
    {
     "name": "stdout",
     "output_type": "stream",
     "text": [
      "Warning: Permanently added 'github.com,192.30.253.113' (RSA) to the list of known hosts.\n",
      "Counting objects: 6, done.\n",
      "Delta compression using up to 8 threads.\n",
      "Compressing objects: 100% (6/6), done.\n",
      "Writing objects: 100% (6/6), 103.26 KiB | 0 bytes/s, done.\n",
      "Total 6 (delta 4), reused 0 (delta 0)\n",
      "remote: Resolving deltas: 100% (4/4), completed with 4 local objects.\u001b[K\n",
      "To git@github.com:heartnetkung/hnk-dskit.git\n",
      "   c94bed3..747267e  master -> master\n",
      "Branch master set up to track remote branch master from origin.\n"
     ]
    }
   ],
   "source": [
    "! GIT_SSH_COMMAND=\"ssh -i id_rsa -o UserKnownHostsFile=/dev/null -o StrictHostKeyChecking=no\" git push -u origin master"
   ]
  },
  {
   "cell_type": "markdown",
   "metadata": {},
   "source": [
    "# Misc"
   ]
  },
  {
   "cell_type": "code",
   "execution_count": 56,
   "metadata": {},
   "outputs": [],
   "source": [
    "! git ls-files --others --exclude-standard"
   ]
  },
  {
   "cell_type": "code",
   "execution_count": null,
   "metadata": {},
   "outputs": [],
   "source": [
    "! ssh-keygen -t rsa -b 4096 -N '' -f id_rsa"
   ]
  },
  {
   "cell_type": "code",
   "execution_count": 43,
   "metadata": {},
   "outputs": [],
   "source": [
    "# delete git and restart over\n",
    "! rm -rf .git"
   ]
  },
  {
   "cell_type": "code",
   "execution_count": 57,
   "metadata": {},
   "outputs": [],
   "source": [
    "# unstage all\n",
    "! git reset"
   ]
  },
  {
   "cell_type": "code",
   "execution_count": null,
   "metadata": {},
   "outputs": [],
   "source": []
  }
 ],
 "metadata": {
  "kernelspec": {
   "display_name": "Python 2",
   "language": "python",
   "name": "python2"
  },
  "language_info": {
   "codemirror_mode": {
    "name": "ipython",
    "version": 2
   },
   "file_extension": ".py",
   "mimetype": "text/x-python",
   "name": "python",
   "nbconvert_exporter": "python",
   "pygments_lexer": "ipython2",
   "version": "2.7.15"
  }
 },
 "nbformat": 4,
 "nbformat_minor": 2
}
